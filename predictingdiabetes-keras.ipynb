{
 "cells": [
  {
   "cell_type": "code",
   "execution_count": 41,
   "id": "4a9329e7-3a92-48f9-80d1-0a1b66e967b7",
   "metadata": {},
   "outputs": [
    {
     "data": {
      "text/plain": [
       "<keras.src.callbacks.History at 0x277e3d46500>"
      ]
     },
     "execution_count": 41,
     "metadata": {},
     "output_type": "execute_result"
    }
   ],
   "source": [
    "from numpy import loadtxt\n",
    "from sklearn.model_selection import train_test_split\n",
    "from sklearn.metrics import accuracy_score\n",
    "from tensorflow.keras.models import Sequential\n",
    "from tensorflow.keras.layers import Dense\n",
    "\n",
    "# Load the dataset\n",
    "dataset = loadtxt('pima.txt', delimiter=',')\n",
    "\n",
    "# Split into input (X) and output (y) variables\n",
    "X = dataset[:, 0:8]\n",
    "y = dataset[:, 8]\n",
    "\n",
    "# Split the data into training and testing sets\n",
    "X_train, X_test, y_train, y_test = train_test_split(X, y, test_size=0.2, random_state=42)\n",
    "\n",
    "# Define the keras model\n",
    "model = Sequential()\n",
    "model.add(Dense(12, input_shape=(8,), activation='relu'))\n",
    "model.add(Dense(8, activation='relu'))\n",
    "model.add(Dense(1, activation='sigmoid'))\n",
    "\n",
    "# Compile the keras model\n",
    "model.compile(loss='binary_crossentropy', optimizer='adam', metrics=['accuracy'])\n",
    "\n",
    "# Fit the keras model on the training dataset\n",
    "model.fit(X_train, y_train, epochs=150, batch_size=10, verbose=0)  # verbose=0 to suppress training output"
   ]
  },
  {
   "cell_type": "code",
   "execution_count": 42,
   "id": "e3697806-f420-427c-8d5f-ae06a554c57b",
   "metadata": {},
   "outputs": [
    {
     "name": "stdout",
     "output_type": "stream",
     "text": [
      "5/5 [==============================] - 0s 3ms/step - loss: 0.5269 - accuracy: 0.7857\n",
      "Accuracy on test data: 78.57%\n",
      "5/5 [==============================] - 0s 1ms/step\n",
      "Accuracy calculated using sklearn: 78.57%\n"
     ]
    }
   ],
   "source": [
    "# Evaluate the keras model on the testing dataset\n",
    "_, accuracy = model.evaluate(X_test, y_test)\n",
    "print('Accuracy on test data: %.2f%%' % (accuracy * 100))\n",
    "\n",
    "# Make predictions on test data\n",
    "predictions = (model.predict(X_test) > 0.5).astype(int)\n",
    "\n",
    "# Calculate accuracy\n",
    "test_accuracy = accuracy_score(y_test, predictions)\n",
    "print('Accuracy calculated using sklearn: %.2f%%' % (test_accuracy * 100))"
   ]
  },
  {
   "cell_type": "code",
   "execution_count": null,
   "id": "4646bf40-14b2-4b8f-ab5e-5f44b14f30e1",
   "metadata": {},
   "outputs": [],
   "source": []
  }
 ],
 "metadata": {
  "kernelspec": {
   "display_name": "Python 3 (ipykernel)",
   "language": "python",
   "name": "python3"
  },
  "language_info": {
   "codemirror_mode": {
    "name": "ipython",
    "version": 3
   },
   "file_extension": ".py",
   "mimetype": "text/x-python",
   "name": "python",
   "nbconvert_exporter": "python",
   "pygments_lexer": "ipython3",
   "version": "3.10.9"
  }
 },
 "nbformat": 4,
 "nbformat_minor": 5
}
